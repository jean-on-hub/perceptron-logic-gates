{
 "cells": [
  {
   "cell_type": "markdown",
   "id": "032a6346",
   "metadata": {},
   "source": [
    "### import dependencies"
   ]
  },
  {
   "cell_type": "code",
   "execution_count": 3,
   "id": "0e077d33",
   "metadata": {},
   "outputs": [],
   "source": [
    "from sklearn.linear_model import Perceptron\n",
    "import matplotlib.pyplot as plt\n",
    "import numpy as np\n",
    "from itertools import product"
   ]
  },
  {
   "cell_type": "code",
   "execution_count": 4,
   "id": "31109b2f",
   "metadata": {},
   "outputs": [],
   "source": [
    "# create datatset and labels\n",
    "data = [[0,0],[0,1],[1,0],[1,1]]\n",
    "labels = [0,0,0,1]"
   ]
  },
  {
   "cell_type": "code",
   "execution_count": 5,
   "id": "73fcbb0a",
   "metadata": {},
   "outputs": [
    {
     "data": {
      "image/png": "[encoded data removed]",
      "text/plain": [
       "<Figure size 432x288 with 1 Axes>"
      ]
     },
     "metadata": {
      "needs_background": "light"
     },
     "output_type": "display_data"
    }
   ],
   "source": [
    "# scatterplot of dataset\n",
    "plt.scatter([point[0] for point in data],[point[1] for point in data],c = labels)\n",
    "plt.show()"
   ]
  },
  {
   "cell_type": "code",
   "execution_count": 6,
   "id": "501c3f5d",
   "metadata": {},
   "outputs": [
    {
     "name": "stdout",
     "output_type": "stream",
     "text": [
      "1.0\n"
     ]
    }
   ],
   "source": [
    "# create classifier\n",
    "classifier = Perceptron(max_iter = 40)\n",
    "# fit data\n",
    "classifier.fit(data,labels)\n",
    "print(classifier.score(data,labels))"
   ]
  },
  {
   "cell_type": "code",
   "execution_count": 7,
   "id": "126fb085",
   "metadata": {},
   "outputs": [
    {
     "name": "stdout",
     "output_type": "stream",
     "text": [
      "0.5\n"
     ]
    }
   ],
   "source": [
    "# fit to xor gate\n",
    "labels = [0,1,1,0]\n",
    "classifier.fit(data,labels)\n",
    "print(classifier.score(data,labels))"
   ]
  },
  {
   "cell_type": "code",
   "execution_count": 8,
   "id": "37e18fbd",
   "metadata": {},
   "outputs": [
    {
     "name": "stdout",
     "output_type": "stream",
     "text": [
      "1.0\n"
     ]
    }
   ],
   "source": [
    "# fit to or gate\n",
    "labels = [0,1,1,1]\n",
    "classifier.fit(data,labels)\n",
    "print(classifier.score(data,labels))"
   ]
  },
  {
   "cell_type": "code",
   "execution_count": 9,
   "id": "a0407aa5",
   "metadata": {},
   "outputs": [
    {
     "name": "stdout",
     "output_type": "stream",
     "text": [
      "[-2.  2.  0.]\n"
     ]
    }
   ],
   "source": [
    "# fit back to and gate\n",
    "labels = [0,0,0,1]\n",
    "classifier.fit(data,labels)\n",
    "print(classifier.decision_function([[0, 0], [1, 1], [0.5, 0.5]]))"
   ]
  },
  {
   "cell_type": "code",
   "execution_count": 11,
   "id": "9c78f3a2",
   "metadata": {},
   "outputs": [],
   "source": [
    "# create grid dataset\n",
    "x_values = np.linspace(0,1,100)\n",
    "y_values = np.linspace(0,1,100)\n",
    "\n",
    "point_grid= (list(product(x_values,y_values)))\n",
    "# obtain grid data\n",
    "distances = classifier.decision_function(point_grid)\n",
    "avs_distances = [abs(distance) for distance in distances]\n",
    "\n",
    "distances_matrix = np.reshape(avs_distances,(100,100))"
   ]
  },
  {
   "cell_type": "code",
   "execution_count": 14,
   "id": "087ee32b",
   "metadata": {},
   "outputs": [
    {
     "data": {
      "image/png": "[encoded data removed]",
      "text/plain": [
       "<Figure size 432x288 with 2 Axes>"
      ]
     },
     "metadata": {
      "needs_background": "light"
     },
     "output_type": "display_data"
    }
   ],
   "source": [
    "# draw heatmap\n",
    "heatmap = plt.pcolormesh(x_values,y_values,distances_matrix, shading = \"auto\")\n",
    "plt.colorbar(heatmap)\n",
    "plt.show()"
   ]
  },
  {
   "cell_type": "code",
   "execution_count": null,
   "id": "7d01a3c6",
   "metadata": {},
   "outputs": [],
   "source": []
  },
  {
   "cell_type": "code",
   "execution_count": null,
   "id": "34e99ae6",
   "metadata": {},
   "outputs": [],
   "source": []
  }
 ],
 "metadata": {
  "kernelspec": {
   "display_name": "Python 3",
   "language": "python",
   "name": "python3"
  },
  "language_info": {
   "codemirror_mode": {
    "name": "ipython",
    "version": 3
   },
   "file_extension": ".py",
   "mimetype": "text/x-python",
   "name": "python",
   "nbconvert_exporter": "python",
   "pygments_lexer": "ipython3",
   "version": "3.8.8"
  }
 },
 "nbformat": 4,
 "nbformat_minor": 5
}
